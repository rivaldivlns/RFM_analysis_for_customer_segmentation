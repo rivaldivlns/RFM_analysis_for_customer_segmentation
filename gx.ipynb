{
 "cells": [
  {
   "cell_type": "code",
   "execution_count": 1,
   "metadata": {},
   "outputs": [],
   "source": [
    "import pandas as pd\n",
    "import great_expectations as gx\n",
    "from great_expectations.checkpoint import Checkpoint"
   ]
  },
  {
   "cell_type": "code",
   "execution_count": 2,
   "metadata": {},
   "outputs": [],
   "source": [
    "context = gx.get_context()"
   ]
  },
  {
   "cell_type": "code",
   "execution_count": 3,
   "metadata": {},
   "outputs": [],
   "source": [
    "datasource = context.sources.add_pandas(name=\"final_project\")"
   ]
  },
  {
   "cell_type": "code",
   "execution_count": 4,
   "metadata": {},
   "outputs": [],
   "source": [
    "dataframe = pd.read_csv('ecommerce_data_cleaned1.csv')"
   ]
  },
  {
   "cell_type": "code",
   "execution_count": 5,
   "metadata": {},
   "outputs": [],
   "source": [
    "dataframe[\"order_date\"] = pd.to_datetime(dataframe[\"order_date\"])\n",
    "dataframe[\"ship_date\"] = pd.to_datetime(dataframe[\"ship_date\"])\n"
   ]
  },
  {
   "cell_type": "code",
   "execution_count": 6,
   "metadata": {},
   "outputs": [
    {
     "data": {
      "text/html": [
       "<div>\n",
       "<style scoped>\n",
       "    .dataframe tbody tr th:only-of-type {\n",
       "        vertical-align: middle;\n",
       "    }\n",
       "\n",
       "    .dataframe tbody tr th {\n",
       "        vertical-align: top;\n",
       "    }\n",
       "\n",
       "    .dataframe thead th {\n",
       "        text-align: right;\n",
       "    }\n",
       "</style>\n",
       "<table border=\"1\" class=\"dataframe\">\n",
       "  <thead>\n",
       "    <tr style=\"text-align: right;\">\n",
       "      <th></th>\n",
       "      <th>order_id</th>\n",
       "      <th>order_date</th>\n",
       "      <th>ship_date</th>\n",
       "      <th>aging</th>\n",
       "      <th>ship_mode</th>\n",
       "      <th>product_category</th>\n",
       "      <th>product</th>\n",
       "      <th>sales</th>\n",
       "      <th>quantity</th>\n",
       "      <th>discount</th>\n",
       "      <th>profit</th>\n",
       "      <th>shipping_cost</th>\n",
       "      <th>order_priority</th>\n",
       "      <th>customer_id</th>\n",
       "      <th>customer_name</th>\n",
       "      <th>city</th>\n",
       "      <th>state</th>\n",
       "      <th>country</th>\n",
       "      <th>region</th>\n",
       "      <th>months</th>\n",
       "    </tr>\n",
       "  </thead>\n",
       "  <tbody>\n",
       "    <tr>\n",
       "      <th>0</th>\n",
       "      <td>AU-2015-1</td>\n",
       "      <td>2015-11-09</td>\n",
       "      <td>2015-11-17</td>\n",
       "      <td>8</td>\n",
       "      <td>First Class</td>\n",
       "      <td>Auto &amp; Accessories</td>\n",
       "      <td>Car Media Players</td>\n",
       "      <td>140</td>\n",
       "      <td>2</td>\n",
       "      <td>5</td>\n",
       "      <td>46</td>\n",
       "      <td>4</td>\n",
       "      <td>Medium</td>\n",
       "      <td>LS-001</td>\n",
       "      <td>Lane Daniels</td>\n",
       "      <td>Brisbane</td>\n",
       "      <td>Queensland</td>\n",
       "      <td>Australia</td>\n",
       "      <td>Oceania</td>\n",
       "      <td>Nov</td>\n",
       "    </tr>\n",
       "    <tr>\n",
       "      <th>1</th>\n",
       "      <td>AU-2015-2</td>\n",
       "      <td>2015-06-30</td>\n",
       "      <td>2015-07-02</td>\n",
       "      <td>2</td>\n",
       "      <td>First Class</td>\n",
       "      <td>Auto &amp; Accessories</td>\n",
       "      <td>Car Speakers</td>\n",
       "      <td>211</td>\n",
       "      <td>3</td>\n",
       "      <td>3</td>\n",
       "      <td>112</td>\n",
       "      <td>11</td>\n",
       "      <td>Medium</td>\n",
       "      <td>IZ-002</td>\n",
       "      <td>Alvarado Kriz</td>\n",
       "      <td>Berlin</td>\n",
       "      <td>Berlin</td>\n",
       "      <td>Germany</td>\n",
       "      <td>Central</td>\n",
       "      <td>Jun</td>\n",
       "    </tr>\n",
       "    <tr>\n",
       "      <th>2</th>\n",
       "      <td>AU-2015-3</td>\n",
       "      <td>2015-12-05</td>\n",
       "      <td>2015-12-13</td>\n",
       "      <td>8</td>\n",
       "      <td>First Class</td>\n",
       "      <td>Auto &amp; Accessories</td>\n",
       "      <td>Car Body Covers</td>\n",
       "      <td>117</td>\n",
       "      <td>5</td>\n",
       "      <td>1</td>\n",
       "      <td>31</td>\n",
       "      <td>3</td>\n",
       "      <td>Critical</td>\n",
       "      <td>EN-003</td>\n",
       "      <td>Moon Weien</td>\n",
       "      <td>Porirua</td>\n",
       "      <td>Wellington</td>\n",
       "      <td>New Zealand</td>\n",
       "      <td>Oceania</td>\n",
       "      <td>Dec</td>\n",
       "    </tr>\n",
       "    <tr>\n",
       "      <th>3</th>\n",
       "      <td>AU-2015-4</td>\n",
       "      <td>2015-05-09</td>\n",
       "      <td>2015-05-16</td>\n",
       "      <td>7</td>\n",
       "      <td>First Class</td>\n",
       "      <td>Auto &amp; Accessories</td>\n",
       "      <td>Car &amp; Bike Care</td>\n",
       "      <td>118</td>\n",
       "      <td>2</td>\n",
       "      <td>5</td>\n",
       "      <td>26</td>\n",
       "      <td>2</td>\n",
       "      <td>High</td>\n",
       "      <td>AN-004</td>\n",
       "      <td>Sanchez Bergman</td>\n",
       "      <td>Kabul</td>\n",
       "      <td>Kabul</td>\n",
       "      <td>Afghanistan</td>\n",
       "      <td>Central Asia</td>\n",
       "      <td>May</td>\n",
       "    </tr>\n",
       "    <tr>\n",
       "      <th>4</th>\n",
       "      <td>AU-2015-5</td>\n",
       "      <td>2015-07-09</td>\n",
       "      <td>2015-07-18</td>\n",
       "      <td>9</td>\n",
       "      <td>First Class</td>\n",
       "      <td>Auto &amp; Accessories</td>\n",
       "      <td>Tyre</td>\n",
       "      <td>250</td>\n",
       "      <td>1</td>\n",
       "      <td>4</td>\n",
       "      <td>160</td>\n",
       "      <td>16</td>\n",
       "      <td>Critical</td>\n",
       "      <td>ON-005</td>\n",
       "      <td>Rowe Jackson</td>\n",
       "      <td>Townsville</td>\n",
       "      <td>Queensland</td>\n",
       "      <td>Australia</td>\n",
       "      <td>Oceania</td>\n",
       "      <td>Jul</td>\n",
       "    </tr>\n",
       "  </tbody>\n",
       "</table>\n",
       "</div>"
      ],
      "text/plain": [
       "    order_id order_date  ship_date  aging    ship_mode    product_category  \\\n",
       "0  AU-2015-1 2015-11-09 2015-11-17      8  First Class  Auto & Accessories   \n",
       "1  AU-2015-2 2015-06-30 2015-07-02      2  First Class  Auto & Accessories   \n",
       "2  AU-2015-3 2015-12-05 2015-12-13      8  First Class  Auto & Accessories   \n",
       "3  AU-2015-4 2015-05-09 2015-05-16      7  First Class  Auto & Accessories   \n",
       "4  AU-2015-5 2015-07-09 2015-07-18      9  First Class  Auto & Accessories   \n",
       "\n",
       "             product  sales  quantity  discount  profit  shipping_cost  \\\n",
       "0  Car Media Players    140         2         5      46              4   \n",
       "1       Car Speakers    211         3         3     112             11   \n",
       "2    Car Body Covers    117         5         1      31              3   \n",
       "3    Car & Bike Care    118         2         5      26              2   \n",
       "4               Tyre    250         1         4     160             16   \n",
       "\n",
       "  order_priority customer_id    customer_name        city       state  \\\n",
       "0         Medium      LS-001     Lane Daniels    Brisbane  Queensland   \n",
       "1         Medium      IZ-002    Alvarado Kriz      Berlin      Berlin   \n",
       "2       Critical      EN-003       Moon Weien     Porirua  Wellington   \n",
       "3           High      AN-004  Sanchez Bergman       Kabul       Kabul   \n",
       "4       Critical      ON-005     Rowe Jackson  Townsville  Queensland   \n",
       "\n",
       "       country        region months  \n",
       "0    Australia       Oceania    Nov  \n",
       "1      Germany       Central    Jun  \n",
       "2  New Zealand       Oceania    Dec  \n",
       "3  Afghanistan  Central Asia    May  \n",
       "4    Australia       Oceania    Jul  "
      ]
     },
     "execution_count": 6,
     "metadata": {},
     "output_type": "execute_result"
    }
   ],
   "source": [
    "dataframe.head()"
   ]
  },
  {
   "cell_type": "code",
   "execution_count": 7,
   "metadata": {},
   "outputs": [],
   "source": [
    "name = \"ecommerce_final_project\"\n",
    "data_asset = datasource.add_dataframe_asset(name=name)\n",
    "my_batch_request = data_asset.build_batch_request(dataframe=dataframe)"
   ]
  },
  {
   "cell_type": "code",
   "execution_count": 8,
   "metadata": {},
   "outputs": [
    {
     "data": {
      "application/vnd.jupyter.widget-view+json": {
       "model_id": "dd165f115f704eb38009cc30a8a8662b",
       "version_major": 2,
       "version_minor": 0
      },
      "text/plain": [
       "Calculating Metrics:   0%|          | 0/1 [00:00<?, ?it/s]"
      ]
     },
     "metadata": {},
     "output_type": "display_data"
    },
    {
     "name": "stdout",
     "output_type": "stream",
     "text": [
      "    order_id order_date  ship_date  aging    ship_mode    product_category  \\\n",
      "0  AU-2015-1 2015-11-09 2015-11-17      8  First Class  Auto & Accessories   \n",
      "1  AU-2015-2 2015-06-30 2015-07-02      2  First Class  Auto & Accessories   \n",
      "2  AU-2015-3 2015-12-05 2015-12-13      8  First Class  Auto & Accessories   \n",
      "3  AU-2015-4 2015-05-09 2015-05-16      7  First Class  Auto & Accessories   \n",
      "4  AU-2015-5 2015-07-09 2015-07-18      9  First Class  Auto & Accessories   \n",
      "\n",
      "             product  sales  quantity  discount  profit  shipping_cost  \\\n",
      "0  Car Media Players    140         2         5      46              4   \n",
      "1       Car Speakers    211         3         3     112             11   \n",
      "2    Car Body Covers    117         5         1      31              3   \n",
      "3    Car & Bike Care    118         2         5      26              2   \n",
      "4               Tyre    250         1         4     160             16   \n",
      "\n",
      "  order_priority customer_id    customer_name        city       state  \\\n",
      "0         Medium      LS-001     Lane Daniels    Brisbane  Queensland   \n",
      "1         Medium      IZ-002    Alvarado Kriz      Berlin      Berlin   \n",
      "2       Critical      EN-003       Moon Weien     Porirua  Wellington   \n",
      "3           High      AN-004  Sanchez Bergman       Kabul       Kabul   \n",
      "4       Critical      ON-005     Rowe Jackson  Townsville  Queensland   \n",
      "\n",
      "       country        region months  \n",
      "0    Australia       Oceania    Nov  \n",
      "1      Germany       Central    Jun  \n",
      "2  New Zealand       Oceania    Dec  \n",
      "3  Afghanistan  Central Asia    May  \n",
      "4    Australia       Oceania    Jul  \n"
     ]
    }
   ],
   "source": [
    "expectation_suite_name = \"hacktiv8_final_project\"\n",
    "context.add_or_update_expectation_suite(expectation_suite_name=expectation_suite_name)\n",
    "validator = context.get_validator(\n",
    "    batch_request=data_asset.build_batch_request(dataframe=dataframe),\n",
    "    expectation_suite_name=expectation_suite_name,\n",
    ")\n",
    "\n",
    "print(validator.head())"
   ]
  },
  {
   "cell_type": "code",
   "execution_count": 9,
   "metadata": {},
   "outputs": [
    {
     "data": {
      "application/vnd.jupyter.widget-view+json": {
       "model_id": "1d21f073f5674108948b199f9f1ee307",
       "version_major": 2,
       "version_minor": 0
      },
      "text/plain": [
       "Calculating Metrics:   0%|          | 0/8 [00:00<?, ?it/s]"
      ]
     },
     "metadata": {},
     "output_type": "display_data"
    },
    {
     "data": {
      "application/vnd.jupyter.widget-view+json": {
       "model_id": "9e6e646a1c5b43be8215f0d073ca5699",
       "version_major": 2,
       "version_minor": 0
      },
      "text/plain": [
       "Calculating Metrics:   0%|          | 0/8 [00:00<?, ?it/s]"
      ]
     },
     "metadata": {},
     "output_type": "display_data"
    },
    {
     "data": {
      "application/vnd.jupyter.widget-view+json": {
       "model_id": "7cd5fce04b7a400dae8071703532c9e5",
       "version_major": 2,
       "version_minor": 0
      },
      "text/plain": [
       "Calculating Metrics:   0%|          | 0/8 [00:00<?, ?it/s]"
      ]
     },
     "metadata": {},
     "output_type": "display_data"
    },
    {
     "data": {
      "application/vnd.jupyter.widget-view+json": {
       "model_id": "fc0a25432f764b94bba44d35de9ea9cb",
       "version_major": 2,
       "version_minor": 0
      },
      "text/plain": [
       "Calculating Metrics:   0%|          | 0/8 [00:00<?, ?it/s]"
      ]
     },
     "metadata": {},
     "output_type": "display_data"
    },
    {
     "data": {
      "application/vnd.jupyter.widget-view+json": {
       "model_id": "09fe6502201f4b67af9e77a95d87a326",
       "version_major": 2,
       "version_minor": 0
      },
      "text/plain": [
       "Calculating Metrics:   0%|          | 0/8 [00:00<?, ?it/s]"
      ]
     },
     "metadata": {},
     "output_type": "display_data"
    },
    {
     "data": {
      "application/vnd.jupyter.widget-view+json": {
       "model_id": "bba6362191ff4c5197e8b62a81285e08",
       "version_major": 2,
       "version_minor": 0
      },
      "text/plain": [
       "Calculating Metrics:   0%|          | 0/8 [00:00<?, ?it/s]"
      ]
     },
     "metadata": {},
     "output_type": "display_data"
    },
    {
     "data": {
      "application/vnd.jupyter.widget-view+json": {
       "model_id": "81826589b30b42a3911be9a7279bd9d1",
       "version_major": 2,
       "version_minor": 0
      },
      "text/plain": [
       "Calculating Metrics:   0%|          | 0/8 [00:00<?, ?it/s]"
      ]
     },
     "metadata": {},
     "output_type": "display_data"
    },
    {
     "data": {
      "application/vnd.jupyter.widget-view+json": {
       "model_id": "2af8bb525071439c9eec5a42cb3a7a55",
       "version_major": 2,
       "version_minor": 0
      },
      "text/plain": [
       "Calculating Metrics:   0%|          | 0/8 [00:00<?, ?it/s]"
      ]
     },
     "metadata": {},
     "output_type": "display_data"
    },
    {
     "data": {
      "application/vnd.jupyter.widget-view+json": {
       "model_id": "cf7da93b432c4200ade73b954214ddd8",
       "version_major": 2,
       "version_minor": 0
      },
      "text/plain": [
       "Calculating Metrics:   0%|          | 0/8 [00:00<?, ?it/s]"
      ]
     },
     "metadata": {},
     "output_type": "display_data"
    },
    {
     "data": {
      "application/vnd.jupyter.widget-view+json": {
       "model_id": "e69acf066204498b94de3e9317b31ccf",
       "version_major": 2,
       "version_minor": 0
      },
      "text/plain": [
       "Calculating Metrics:   0%|          | 0/8 [00:00<?, ?it/s]"
      ]
     },
     "metadata": {},
     "output_type": "display_data"
    },
    {
     "data": {
      "application/vnd.jupyter.widget-view+json": {
       "model_id": "ad755b2371344b4caebdf0d9541cb3a3",
       "version_major": 2,
       "version_minor": 0
      },
      "text/plain": [
       "Calculating Metrics:   0%|          | 0/6 [00:00<?, ?it/s]"
      ]
     },
     "metadata": {},
     "output_type": "display_data"
    },
    {
     "data": {
      "text/plain": [
       "{\n",
       "  \"success\": true,\n",
       "  \"result\": {\n",
       "    \"element_count\": 51275,\n",
       "    \"unexpected_count\": 0,\n",
       "    \"unexpected_percent\": 0.0,\n",
       "    \"partial_unexpected_list\": []\n",
       "  },\n",
       "  \"meta\": {},\n",
       "  \"exception_info\": {\n",
       "    \"raised_exception\": false,\n",
       "    \"exception_traceback\": null,\n",
       "    \"exception_message\": null\n",
       "  }\n",
       "}"
      ]
     },
     "execution_count": 9,
     "metadata": {},
     "output_type": "execute_result"
    }
   ],
   "source": [
    "# 1. Unique order_id\n",
    "validator.expect_column_values_to_be_unique(column=\"order_id\")\n",
    "\n",
    "# 2. Non-negative values\n",
    "for col in [\"sales\", \"quantity\", \"profit\", \"shipping_cost\"]:\n",
    "    validator.expect_column_values_to_be_between(column=col, min_value=0)\n",
    "\n",
    "# 3. Discount Range\n",
    "validator.expect_column_values_to_be_between(column=\"discount\", min_value=0, max_value=100)\n",
    "\n",
    "# 4. Consistency Checks\n",
    "ship_modes = dataframe[\"ship_mode\"].unique()\n",
    "validator.expect_column_values_to_be_in_set(column=\"ship_mode\", value_set=list(ship_modes))\n",
    "\n",
    "product_categories = dataframe[\"product_category\"].unique()\n",
    "validator.expect_column_values_to_be_in_set(column=\"product_category\", value_set=list(product_categories))\n",
    "\n",
    "order_priorities = dataframe[\"order_priority\"].unique()\n",
    "validator.expect_column_values_to_be_in_set(column=\"order_priority\", value_set=list(order_priorities))\n",
    "\n",
    "regions = dataframe[\"region\"].unique()\n",
    "validator.expect_column_values_to_be_in_set(column=\"region\", value_set=list(regions))\n",
    "\n",
    "# 5. Missing Values\n",
    "validator.expect_column_values_to_not_be_null(column=\"order_id\")\n"
   ]
  },
  {
   "cell_type": "code",
   "execution_count": 10,
   "metadata": {},
   "outputs": [],
   "source": [
    "validator.save_expectation_suite(discard_failed_expectations=False)"
   ]
  },
  {
   "cell_type": "code",
   "execution_count": 11,
   "metadata": {},
   "outputs": [],
   "source": [
    "my_checkpoint_name = \"hacktiv8_final_project\"\n",
    "\n",
    "checkpoint = Checkpoint(\n",
    "    name=my_checkpoint_name,\n",
    "    run_name_template=\"%Y%m%d-%H%M%S-hacktiv8_M3_checkpoint\",\n",
    "    data_context=context,\n",
    "    batch_request=my_batch_request,\n",
    "    expectation_suite_name=expectation_suite_name,\n",
    "    action_list=[\n",
    "        {\n",
    "            \"name\": \"store_validation_result\",\n",
    "            \"action\": {\"class_name\": \"StoreValidationResultAction\"},\n",
    "        },\n",
    "        {\"name\": \"update_data_docs\", \"action\": {\"class_name\": \"UpdateDataDocsAction\"}},\n",
    "    ],\n",
    ")"
   ]
  },
  {
   "cell_type": "code",
   "execution_count": 12,
   "metadata": {},
   "outputs": [
    {
     "data": {
      "text/plain": [
       "{\n",
       "  \"action_list\": [\n",
       "    {\n",
       "      \"name\": \"store_validation_result\",\n",
       "      \"action\": {\n",
       "        \"class_name\": \"StoreValidationResultAction\"\n",
       "      }\n",
       "    },\n",
       "    {\n",
       "      \"name\": \"update_data_docs\",\n",
       "      \"action\": {\n",
       "        \"class_name\": \"UpdateDataDocsAction\"\n",
       "      }\n",
       "    }\n",
       "  ],\n",
       "  \"batch_request\": {\n",
       "    \"datasource_name\": \"final_project\",\n",
       "    \"data_asset_name\": \"ecommerce_final_project\",\n",
       "    \"options\": {}\n",
       "  },\n",
       "  \"class_name\": \"Checkpoint\",\n",
       "  \"config_version\": 1.0,\n",
       "  \"evaluation_parameters\": {},\n",
       "  \"expectation_suite_name\": \"hacktiv8_final_project\",\n",
       "  \"module_name\": \"great_expectations.checkpoint\",\n",
       "  \"name\": \"hacktiv8_final_project\",\n",
       "  \"profilers\": [],\n",
       "  \"run_name_template\": \"%Y%m%d-%H%M%S-hacktiv8_M3_checkpoint\",\n",
       "  \"runtime_configuration\": {},\n",
       "  \"validations\": []\n",
       "}"
      ]
     },
     "execution_count": 12,
     "metadata": {},
     "output_type": "execute_result"
    }
   ],
   "source": [
    "context.add_or_update_checkpoint(checkpoint=checkpoint)"
   ]
  },
  {
   "cell_type": "code",
   "execution_count": 13,
   "metadata": {},
   "outputs": [
    {
     "data": {
      "application/vnd.jupyter.widget-view+json": {
       "model_id": "bd6e1407d2324c2d885c97419e355737",
       "version_major": 2,
       "version_minor": 0
      },
      "text/plain": [
       "Calculating Metrics:   0%|          | 0/76 [00:00<?, ?it/s]"
      ]
     },
     "metadata": {},
     "output_type": "display_data"
    }
   ],
   "source": [
    "checkpoint_result = checkpoint.run()"
   ]
  },
  {
   "cell_type": "code",
   "execution_count": 14,
   "metadata": {},
   "outputs": [
    {
     "data": {
      "text/plain": [
       "{'local_site': 'file://C:\\\\Users\\\\user\\\\AppData\\\\Local\\\\Temp\\\\tmpnvpg4600\\\\index.html'}"
      ]
     },
     "execution_count": 14,
     "metadata": {},
     "output_type": "execute_result"
    }
   ],
   "source": [
    "context.build_data_docs()"
   ]
  },
  {
   "cell_type": "code",
   "execution_count": 15,
   "metadata": {},
   "outputs": [],
   "source": [
    "context.open_data_docs()"
   ]
  }
 ],
 "metadata": {
  "kernelspec": {
   "display_name": "gx",
   "language": "python",
   "name": "python3"
  },
  "language_info": {
   "codemirror_mode": {
    "name": "ipython",
    "version": 3
   },
   "file_extension": ".py",
   "mimetype": "text/x-python",
   "name": "python",
   "nbconvert_exporter": "python",
   "pygments_lexer": "ipython3",
   "version": "3.9.18"
  },
  "orig_nbformat": 4
 },
 "nbformat": 4,
 "nbformat_minor": 2
}
